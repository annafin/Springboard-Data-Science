{
 "cells": [
  {
   "cell_type": "markdown",
   "metadata": {},
   "source": [
    "This exercise will require you to pull some data from the Qunadl API. Qaundl is currently the most widely used aggregator of financial market data."
   ]
  },
  {
   "cell_type": "markdown",
   "metadata": {},
   "source": [
    "As a first step, you will need to register a free account on the http://www.quandl.com website."
   ]
  },
  {
   "cell_type": "markdown",
   "metadata": {},
   "source": [
    "After you register, you will be provided with a unique API key, that you should store:"
   ]
  },
  {
   "cell_type": "code",
   "execution_count": 1,
   "metadata": {},
   "outputs": [],
   "source": [
    "# Store the API key as a string - according to PEP8, constants are always named in all upper case\n",
    "API_KEY = 'blahbityblah'"
   ]
  },
  {
   "cell_type": "markdown",
   "metadata": {},
   "source": [
    "Qaundl has a large number of data sources, but, unfortunately, most of them require a Premium subscription. Still, there are also a good number of free datasets."
   ]
  },
  {
   "cell_type": "markdown",
   "metadata": {},
   "source": [
    "For this mini project, we will focus on equities data from the Frankfurt Stock Exhange (FSE), which is available for free. We'll try and analyze the stock prices of a company called Carl Zeiss Meditec, which manufactures tools for eye examinations, as well as medical lasers for laser eye surgery: https://www.zeiss.com/meditec/int/home.html. The company is listed under the stock ticker AFX_X."
   ]
  },
  {
   "cell_type": "markdown",
   "metadata": {},
   "source": [
    "You can find the detailed Quandl API instructions here: https://docs.quandl.com/docs/time-series"
   ]
  },
  {
   "cell_type": "markdown",
   "metadata": {},
   "source": [
    "While there is a dedicated Python package for connecting to the Quandl API, we would prefer that you use the *requests* package, which can be easily downloaded using *pip* or *conda*. You can find the documentation for the package here: http://docs.python-requests.org/en/master/ "
   ]
  },
  {
   "cell_type": "markdown",
   "metadata": {},
   "source": [
    "Finally, apart from the *requests* package, you are encouraged to not use any third party Python packages, such as *pandas*, and instead focus on what's available in the Python Standard Library (the *collections* module might come in handy: https://pymotw.com/3/collections/ ).\n",
    "Also, since you won't have access to DataFrames, you are encouraged to us Python's native data structures - preferably dictionaries, though some questions can also be answered using lists.\n",
    "You can read more on these data structures here: https://docs.python.org/3/tutorial/datastructures.html"
   ]
  },
  {
   "cell_type": "markdown",
   "metadata": {},
   "source": [
    "Keep in mind that the JSON responses you will be getting from the API map almost one-to-one to Python's dictionaries. Unfortunately, they can be very nested, so make sure you read up on indexing dictionaries in the documentation provided above."
   ]
  },
  {
   "cell_type": "code",
   "execution_count": 2,
   "metadata": {},
   "outputs": [],
   "source": [
    "# First, import the relevant modules\n",
    "import requests\n",
    "import json \n",
    "from pprint import pprint # make it print pretty"
   ]
  },
  {
   "cell_type": "code",
   "execution_count": 3,
   "metadata": {},
   "outputs": [
    {
     "name": "stdout",
     "output_type": "stream",
     "text": [
      "{'dataset_data': {'limit': None, 'transform': None, 'column_index': None, 'column_names': ['Date', 'Open', 'High', 'Low', 'Close', 'Change', 'Traded Volume', 'Turnover', 'Last Price of the Day', 'Daily Traded Units', 'Daily Turnover'], 'start_date': '2019-06-28', 'end_date': '2019-06-28', 'frequency': 'daily', 'data': [['2019-06-28', 84.5, 86.85, 83.8, 86.75, None, 230574.0, 19812290.0, None, None, None]], 'collapse': None, 'order': None}}\n"
     ]
    }
   ],
   "source": [
    "# Now, call the Quandl API and pull out a small sample of the data (only one day) to get a glimpse\n",
    "# into the JSON structure that will be returned\n",
    "\n",
    "url = 'https://www.quandl.com/api/v3/datasets/FSE/AFX_X/data.json?api_key=blahbityblah&start_date=2019-06-28&end_date=2019-06-28'\n",
    "r = requests.get(url) # send the request and catch the response\n",
    "data = r.json()\n",
    "\n",
    "print(data)"
   ]
  },
  {
   "cell_type": "code",
   "execution_count": 4,
   "metadata": {},
   "outputs": [
    {
     "name": "stdout",
     "output_type": "stream",
     "text": [
      "{'dataset_data': {'collapse': None,\n",
      "                  'column_index': None,\n",
      "                  'column_names': ['Date',\n",
      "                                   'Open',\n",
      "                                   'High',\n",
      "                                   'Low',\n",
      "                                   'Close',\n",
      "                                   'Change',\n",
      "                                   'Traded Volume',\n",
      "                                   'Turnover',\n",
      "                                   'Last Price of the Day',\n",
      "                                   'Daily Traded Units',\n",
      "                                   'Daily Turnover'],\n",
      "                  'data': [['2019-06-28',\n",
      "                            84.5,\n",
      "                            86.85,\n",
      "                            83.8,\n",
      "                            86.75,\n",
      "                            None,\n",
      "                            230574.0,\n",
      "                            19812290.0,\n",
      "                            None,\n",
      "                            None,\n",
      "                            None]],\n",
      "                  'end_date': '2019-06-28',\n",
      "                  'frequency': 'daily',\n",
      "                  'limit': None,\n",
      "                  'order': None,\n",
      "                  'start_date': '2019-06-28',\n",
      "                  'transform': None}}\n"
     ]
    }
   ],
   "source": [
    "# Inspect the JSON structure of the object you created, and take note of how nested it is,\n",
    "# as well as the overall structure\n",
    "\n",
    "pprint(data) # this is very nested"
   ]
  },
  {
   "cell_type": "markdown",
   "metadata": {},
   "source": [
    "These are your tasks for this mini project:\n",
    "\n",
    "1. Collect data from the Franfurt Stock Exchange, for the ticker AFX_X, for the whole year 2017 (keep in mind that the date format is YYYY-MM-DD).\n",
    "2. Convert the returned JSON object into a Python dictionary.\n",
    "3. Calculate what the highest and lowest opening prices were for the stock in this period.\n",
    "4. What was the largest change in any one day (based on High and Low price)?\n",
    "5. What was the largest change between any two days (based on Closing Price)?\n",
    "6. What was the average daily trading volume during this year?\n",
    "7. (Optional) What was the median trading volume during this year. (Note: you may need to implement your own function for calculating the median.)"
   ]
  },
  {
   "cell_type": "code",
   "execution_count": 5,
   "metadata": {},
   "outputs": [],
   "source": [
    "# Collect data from the Franfurt Stock Exchange, for the ticker AFX_X, for the whole year 2017\n",
    "\n",
    "url_2017 = 'https://www.quandl.com/api/v3/datasets/FSE/AFX_X/data.json?api_key=blahbityblah&start_date=2017-01-01&end_date=2017-12-31'\n",
    "r_17 = requests.get(url_2017) # send the request and catch the response\n",
    "data_17 = r_17.json()"
   ]
  },
  {
   "cell_type": "code",
   "execution_count": 6,
   "metadata": {},
   "outputs": [
    {
     "data": {
      "text/plain": [
       "dict"
      ]
     },
     "execution_count": 6,
     "metadata": {},
     "output_type": "execute_result"
    }
   ],
   "source": [
    "# Convert the returned JSON object into a Python dictionary\n",
    "\n",
    "type(data_17) # dict"
   ]
  },
  {
   "cell_type": "code",
   "execution_count": 7,
   "metadata": {},
   "outputs": [
    {
     "data": {
      "text/plain": [
       "(53.11, 34.0)"
      ]
     },
     "execution_count": 7,
     "metadata": {},
     "output_type": "execute_result"
    }
   ],
   "source": [
    "# Calculate what the highest and lowest opening prices were for the stock in this period\n",
    "\n",
    "sel = data_17['dataset_data']['data']\n",
    "\n",
    "emp_list = []\n",
    "\n",
    "for item in sel:\n",
    "    emp_list.append(item[1])\n",
    "    \n",
    "emp_list = list(filter(None, emp_list)) # produces list of opening prices for 2017\n",
    "\n",
    "max(emp_list), min(emp_list) # lowest price is 34.0, highest price is 53.11"
   ]
  },
  {
   "cell_type": "code",
   "execution_count": 8,
   "metadata": {},
   "outputs": [
    {
     "data": {
      "text/plain": [
       "2.8100000000000023"
      ]
     },
     "execution_count": 8,
     "metadata": {},
     "output_type": "execute_result"
    }
   ],
   "source": [
    "# What was the largest change in any one day (based on High and Low price)\n",
    "\n",
    "from decimal import Decimal # floating point arithmetic can be hard to do, this gives accuracy\n",
    "\n",
    "# difference between high (2) and low (3) prices\n",
    "\n",
    "diff_day = [] # store differences\n",
    "\n",
    "for item in sel:\n",
    "    dif = item[2] - item[3]\n",
    "    diff_day.append(dif)\n",
    "    \n",
    "diff_day = sorted(diff_day)\n",
    "\n",
    "max(diff_day) # largest difference in pricing in one day"
   ]
  },
  {
   "cell_type": "code",
   "execution_count": 9,
   "metadata": {},
   "outputs": [
    {
     "data": {
      "text/plain": [
       "19.11"
      ]
     },
     "execution_count": 9,
     "metadata": {},
     "output_type": "execute_result"
    }
   ],
   "source": [
    "# What was the largest change between any two days (based on Closing Price)\n",
    "\n",
    "large_change = max(emp_list) - min(emp_list)\n",
    "\n",
    "large_change # subtracting the min from the max to show the biggest difference for two days"
   ]
  },
  {
   "cell_type": "code",
   "execution_count": 10,
   "metadata": {},
   "outputs": [
    {
     "data": {
      "text/plain": [
       "89124.33725490196"
      ]
     },
     "execution_count": 10,
     "metadata": {},
     "output_type": "execute_result"
    }
   ],
   "source": [
    "# What was the average daily trading volume (6) during this year\n",
    "\n",
    "day_trade = [] # list of trades\n",
    "\n",
    "for item in sel:\n",
    "    day_trade.append(item[6])\n",
    "    \n",
    "day_trade_avg = sum(day_trade) / len(day_trade) # average is sum / # of values\n",
    "\n",
    "day_trade_avg # average is 89124.34"
   ]
  },
  {
   "cell_type": "code",
   "execution_count": 11,
   "metadata": {},
   "outputs": [
    {
     "data": {
      "text/plain": [
       "89124.33725490196"
      ]
     },
     "execution_count": 11,
     "metadata": {},
     "output_type": "execute_result"
    }
   ],
   "source": [
    "# finding the average using another method\n",
    "\n",
    "import statistics\n",
    "\n",
    "new_avg = statistics.mean(day_trade)\n",
    "\n",
    "new_avg # average confirmed!"
   ]
  },
  {
   "cell_type": "code",
   "execution_count": 12,
   "metadata": {},
   "outputs": [
    {
     "data": {
      "text/plain": [
       "76286.0"
      ]
     },
     "execution_count": 12,
     "metadata": {},
     "output_type": "execute_result"
    }
   ],
   "source": [
    "# What was the median trading volume during this year. \n",
    "# (Note: you may need to implement your own function for calculating the median.)\n",
    "\n",
    "day_trade = sorted(day_trade) # sort numbers from smallest to highest\n",
    "\n",
    "len(day_trade) # since there are 255 numbers, we take the middle number\n",
    "\n",
    "day_trade[127] # median is 76286.0"
   ]
  },
  {
   "cell_type": "code",
   "execution_count": 13,
   "metadata": {},
   "outputs": [
    {
     "data": {
      "text/plain": [
       "76286.0"
      ]
     },
     "execution_count": 13,
     "metadata": {},
     "output_type": "execute_result"
    }
   ],
   "source": [
    "# finding the median using another method\n",
    "\n",
    "day_trade_median = statistics.median(day_trade)\n",
    "\n",
    "day_trade_median # median confirmed"
   ]
  },
  {
   "cell_type": "code",
   "execution_count": 14,
   "metadata": {},
   "outputs": [],
   "source": [
    "# find the median using a function\n",
    "\n",
    "# define the median as the middle number in an ordered set of values\n",
    "# or the average of the middle two numbers if the set contains an even number of values\n",
    "\n",
    "def med_finder(item): # item should be a list of values\n",
    "    item = sorted(item)\n",
    "    mid = float(len(item) / 2)\n",
    "    if len(item) % 2 == 0:\n",
    "        # take the average of the two middle numbers\n",
    "        return (item[mid] + item[mid - 1]) / 2\n",
    "    else:\n",
    "        return item[int(mid - 0.5)]"
   ]
  },
  {
   "cell_type": "code",
   "execution_count": 15,
   "metadata": {},
   "outputs": [
    {
     "data": {
      "text/plain": [
       "76286.0"
      ]
     },
     "execution_count": 15,
     "metadata": {},
     "output_type": "execute_result"
    }
   ],
   "source": [
    "med_finder(day_trade) # confirmed again!"
   ]
  },
  {
   "cell_type": "code",
   "execution_count": null,
   "metadata": {},
   "outputs": [],
   "source": []
  }
 ],
 "metadata": {
  "kernelspec": {
   "display_name": "Python 3",
   "language": "python",
   "name": "python3"
  },
  "language_info": {
   "codemirror_mode": {
    "name": "ipython",
    "version": 3
   },
   "file_extension": ".py",
   "mimetype": "text/x-python",
   "name": "python",
   "nbconvert_exporter": "python",
   "pygments_lexer": "ipython3",
   "version": "3.7.3"
  }
 },
 "nbformat": 4,
 "nbformat_minor": 2
}
